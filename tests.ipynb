{
 "cells": [
  {
   "cell_type": "code",
   "execution_count": 1,
   "metadata": {},
   "outputs": [],
   "source": [
    "import stream2 as st\n",
    "import numpy as np"
   ]
  },
  {
   "cell_type": "code",
   "execution_count": 2,
   "metadata": {},
   "outputs": [
    {
     "name": "stdout",
     "output_type": "stream",
     "text": [
      "Seeding initial elastic principal graph...\n",
      "Clustering...\n",
      "K-Means clustering ...\n",
      "Calculatng minimum spanning tree...\n"
     ]
    }
   ],
   "source": [
    "adata=st.AnnData(np.random.random((100,2)))\n",
    "st.tl.seed_graph(adata)\n",
    "st.tl.learn_graph(adata)\n",
    "st.tl.infer_pseudotime(adata,0,key='seed_epg')"
   ]
  }
 ],
 "metadata": {
  "interpreter": {
   "hash": "45f36c84640d0e099547e6a94a70a71b9b33a6325c75bdb8daedd15a937919cf"
  },
  "kernelspec": {
   "display_name": "Python 3.7.7 64-bit ('wip': conda)",
   "name": "python3"
  },
  "language_info": {
   "codemirror_mode": {
    "name": "ipython",
    "version": 3
   },
   "file_extension": ".py",
   "mimetype": "text/x-python",
   "name": "python",
   "nbconvert_exporter": "python",
   "pygments_lexer": "ipython3",
   "version": "3.7.7"
  },
  "orig_nbformat": 4
 },
 "nbformat": 4,
 "nbformat_minor": 2
}
